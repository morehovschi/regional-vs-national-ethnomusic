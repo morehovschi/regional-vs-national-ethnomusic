{
 "cells": [
  {
   "cell_type": "code",
   "execution_count": 1,
   "id": "e43a09fb",
   "metadata": {},
   "outputs": [],
   "source": [
    "import os\n",
    "import sys\n",
    "import json\n",
    "import numpy as np"
   ]
  },
  {
   "cell_type": "code",
   "execution_count": 2,
   "id": "f1159054",
   "metadata": {},
   "outputs": [],
   "source": [
    "import sys\n",
    "sys.path.append( \"IDyOM\" ) "
   ]
  },
  {
   "cell_type": "code",
   "execution_count": 4,
   "id": "830aa701",
   "metadata": {},
   "outputs": [],
   "source": [
    "from idyom import idyom\n",
    "from idyom import data"
   ]
  },
  {
   "cell_type": "code",
   "execution_count": 16,
   "id": "7f79b84e",
   "metadata": {},
   "outputs": [
    {
     "name": "stdout",
     "output_type": "stream",
     "text": [
      "\n",
      "________ We are working on 'data/(dis)similarities-22/MIDI_files/FS_MIDI/FS_MIDI_ROMANIA'\n",
      "\n",
      "_____ Filling the database ...\n",
      "\n",
      " - data/(dis)similarities-22/MIDI_files/FS_MIDI/FS_MIDI_ROMANIA/romani01.mid\n",
      " - data/(dis)similarities-22/MIDI_files/FS_MIDI/FS_MIDI_ROMANIA/romani14.mid\n",
      " - data/(dis)similarities-22/MIDI_files/FS_MIDI/FS_MIDI_ROMANIA/romani28.mid\n",
      " - data/(dis)similarities-22/MIDI_files/FS_MIDI/FS_MIDI_ROMANIA/romani02.mid\n",
      " - data/(dis)similarities-22/MIDI_files/FS_MIDI/FS_MIDI_ROMANIA/romani16.mid\n",
      " - data/(dis)similarities-22/MIDI_files/FS_MIDI/FS_MIDI_ROMANIA/romani17.mid\n",
      " - data/(dis)similarities-22/MIDI_files/FS_MIDI/FS_MIDI_ROMANIA/romani03.mid\n",
      " - data/(dis)similarities-22/MIDI_files/FS_MIDI/FS_MIDI_ROMANIA/romani07.mid\n",
      " - data/(dis)similarities-22/MIDI_files/FS_MIDI/FS_MIDI_ROMANIA/romani13.mid\n",
      " - data/(dis)similarities-22/MIDI_files/FS_MIDI/FS_MIDI_ROMANIA/romani12.mid\n",
      " - data/(dis)similarities-22/MIDI_files/FS_MIDI/FS_MIDI_ROMANIA/romani06.mid\n",
      " - data/(dis)similarities-22/MIDI_files/FS_MIDI/FS_MIDI_ROMANIA/romani10.mid\n",
      " - data/(dis)similarities-22/MIDI_files/FS_MIDI/FS_MIDI_ROMANIA/romani05.mid\n",
      " - data/(dis)similarities-22/MIDI_files/FS_MIDI/FS_MIDI_ROMANIA/romani11.mid\n",
      " - data/(dis)similarities-22/MIDI_files/FS_MIDI/FS_MIDI_ROMANIA/romani20.mid\n",
      " - data/(dis)similarities-22/MIDI_files/FS_MIDI/FS_MIDI_ROMANIA/romani09.mid\n",
      " - data/(dis)similarities-22/MIDI_files/FS_MIDI/FS_MIDI_ROMANIA/romani22.mid\n",
      " - data/(dis)similarities-22/MIDI_files/FS_MIDI/FS_MIDI_ROMANIA/romani26.mid\n",
      " - data/(dis)similarities-22/MIDI_files/FS_MIDI/FS_MIDI_ROMANIA/romani27.mid\n",
      " - data/(dis)similarities-22/MIDI_files/FS_MIDI/FS_MIDI_ROMANIA/romani25.mid\n",
      " - data/(dis)similarities-22/MIDI_files/FS_MIDI/FS_MIDI_ROMANIA/romani19.mid\n",
      " - data/(dis)similarities-22/MIDI_files/FS_MIDI/FS_MIDI_ROMANIA/romani18.mid\n",
      " - data/(dis)similarities-22/MIDI_files/FS_MIDI/FS_MIDI_ROMANIA/romani24.mid\n",
      "\n",
      "We passed a total of  23 files.\n",
      "1 of them have been skiped.\n",
      "\n",
      "_____ Computing multiple viewpoints representation\n",
      "_____ Augmenting database ...\n",
      "\n",
      "Data processing done.\n"
     ]
    }
   ],
   "source": [
    "data_path = \"data/(dis)similarities-22/MIDI_files/FS_MIDI/FS_MIDI_ROMANIA\"\n",
    "\n",
    "data_from_regionA = data.data()\n",
    "data_from_regionA.parse( data_path )"
   ]
  },
  {
   "cell_type": "code",
   "execution_count": 15,
   "id": "091f6f99",
   "metadata": {},
   "outputs": [
    {
     "data": {
      "text/plain": [
       "['__class__',\n",
       " '__delattr__',\n",
       " '__dict__',\n",
       " '__dir__',\n",
       " '__doc__',\n",
       " '__eq__',\n",
       " '__format__',\n",
       " '__ge__',\n",
       " '__getattribute__',\n",
       " '__getstate__',\n",
       " '__gt__',\n",
       " '__hash__',\n",
       " '__init__',\n",
       " '__init_subclass__',\n",
       " '__le__',\n",
       " '__lt__',\n",
       " '__module__',\n",
       " '__ne__',\n",
       " '__new__',\n",
       " '__reduce__',\n",
       " '__reduce_ex__',\n",
       " '__repr__',\n",
       " '__setattr__',\n",
       " '__sizeof__',\n",
       " '__str__',\n",
       " '__subclasshook__',\n",
       " '__weakref__',\n",
       " 'addFile',\n",
       " 'addFiles',\n",
       " 'addScore',\n",
       " 'augmentByTransposition',\n",
       " 'augmentData',\n",
       " 'augmentRythm',\n",
       " 'availableViewPoints',\n",
       " 'data',\n",
       " 'dataToViewpoint',\n",
       " 'deleteDuplicates',\n",
       " 'folderPath',\n",
       " 'getData',\n",
       " 'getNote',\n",
       " 'getScore',\n",
       " 'getScoresFeatures',\n",
       " 'getSize',\n",
       " 'getSizeofPiece',\n",
       " 'getViewpointRepresentation',\n",
       " 'load',\n",
       " 'parse',\n",
       " 'parseFile',\n",
       " 'plotScores',\n",
       " 'print',\n",
       " 'quantization',\n",
       " 'save',\n",
       " 'viewpoints']"
      ]
     },
     "execution_count": 15,
     "metadata": {},
     "output_type": "execute_result"
    }
   ],
   "source": []
  },
  {
   "cell_type": "code",
   "execution_count": 64,
   "id": "88e49aee",
   "metadata": {},
   "outputs": [],
   "source": [
    "model = idyom.idyom(maxOrder=20, viewPoints=['pitch', 'length'])\n",
    "model.train(data_from_regionA)"
   ]
  },
  {
   "cell_type": "code",
   "execution_count": 66,
   "id": "feaa35ca",
   "metadata": {},
   "outputs": [],
   "source": [
    "test_file = \"data/(dis)similarities-22/MIDI_files/FS_MIDI/FS_MIDI_POLAND/polska01.mid\""
   ]
  },
  {
   "cell_type": "code",
   "execution_count": 68,
   "id": "4fa14f40",
   "metadata": {},
   "outputs": [],
   "source": [
    "surprise_values_pl = model.getSurprisefromFile( test_file )"
   ]
  },
  {
   "cell_type": "code",
   "execution_count": 69,
   "id": "b610cbcf",
   "metadata": {},
   "outputs": [
    {
     "data": {
      "text/plain": [
       "(array([3.89715159, 4.10999357, 3.45170359, 3.51392551, 3.77803317,\n",
       "        4.16362047, 4.99934425, 7.68859566, 3.48753081, 5.38720676,\n",
       "        2.07122595, 2.73848441, 2.99019008, 1.99148371, 4.25186196,\n",
       "        1.29684605, 4.96373672, 3.46980564, 3.46637436, 3.4416951 ,\n",
       "        3.21538547, 4.16645502, 6.38846649, 3.04364661, 5.92318002,\n",
       "        2.06809265, 5.97680828, 5.01127501, 5.69026196, 2.70483199,\n",
       "        5.28059921, 4.56643694, 3.37481825, 2.53861065, 3.4723346 ,\n",
       "        2.94297179, 2.40934927, 1.92181513, 0.75062114, 2.01924587,\n",
       "        2.57124778, 1.0331074 , 2.20681547, 1.45965863, 2.42077554,\n",
       "        0.99865405, 1.29139051, 0.60732242, 7.78157534, 3.30129827]),\n",
       " array([4.5503081 , 4.36596021, 3.75117333, 3.52221337, 3.08360771,\n",
       "        2.46997407, 3.10626065, 2.8716067 , 4.07709967, 2.88151439,\n",
       "        1.68642006, 2.19783466, 1.53101133, 1.8989263 , 1.33210366,\n",
       "        0.9812191 , 1.15396053, 3.35785528, 3.92734443, 3.46006412,\n",
       "        3.36550648, 3.08358207, 3.23521802, 3.39454252, 3.33752399,\n",
       "        2.35764216, 3.50134703, 2.91566651, 3.15115105, 2.38016197,\n",
       "        3.98369842, 3.22631547, 3.742949  , 2.61336419, 3.3977037 ,\n",
       "        2.9074335 , 2.28295849, 1.76806557, 0.91433963, 1.87000937,\n",
       "        1.7852595 , 1.17901182, 1.57005173, 0.93535346, 1.38351278,\n",
       "        0.51104841, 1.1400822 , 0.53016853, 1.31093295, 2.41989533]))"
      ]
     },
     "execution_count": 69,
     "metadata": {},
     "output_type": "execute_result"
    }
   ],
   "source": [
    "surprise_values_pl"
   ]
  },
  {
   "cell_type": "code",
   "execution_count": 79,
   "id": "e929e96a",
   "metadata": {},
   "outputs": [
    {
     "data": {
      "text/plain": [
       "(3.445917222056697, 2.5280190706328938)"
      ]
     },
     "execution_count": 79,
     "metadata": {},
     "output_type": "execute_result"
    }
   ],
   "source": [
    "surprise_values_pl[0].mean(), surprise_values_pl[1].mean()"
   ]
  },
  {
   "cell_type": "code",
   "execution_count": 80,
   "id": "a23a71f2",
   "metadata": {},
   "outputs": [],
   "source": [
    "test_file = \"data/(dis)similarities-22/MIDI_files/FS_MIDI/FS_MIDI_CROATIA/Rasti_rozmarin_FS_HR.mid\""
   ]
  },
  {
   "cell_type": "code",
   "execution_count": 81,
   "id": "efbacffb",
   "metadata": {},
   "outputs": [],
   "source": [
    "surprise_values_hr = model.getSurprisefromFile( test_file )"
   ]
  },
  {
   "cell_type": "code",
   "execution_count": 82,
   "id": "507f6084",
   "metadata": {},
   "outputs": [
    {
     "data": {
      "text/plain": [
       "(4.433875024639217, 3.107185863950832)"
      ]
     },
     "execution_count": 82,
     "metadata": {},
     "output_type": "execute_result"
    }
   ],
   "source": [
    "surprise_values_hr[0].mean(), surprise_values_hr[1].mean()"
   ]
  },
  {
   "cell_type": "code",
   "execution_count": null,
   "id": "9e740e90",
   "metadata": {},
   "outputs": [],
   "source": []
  }
 ],
 "metadata": {
  "kernelspec": {
   "display_name": "Python 3 (ipykernel)",
   "language": "python",
   "name": "python3"
  },
  "language_info": {
   "codemirror_mode": {
    "name": "ipython",
    "version": 3
   },
   "file_extension": ".py",
   "mimetype": "text/x-python",
   "name": "python",
   "nbconvert_exporter": "python",
   "pygments_lexer": "ipython3",
   "version": "3.11.11"
  }
 },
 "nbformat": 4,
 "nbformat_minor": 5
}
